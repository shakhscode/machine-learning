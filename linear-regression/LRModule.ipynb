{
 "cells": [
  {
   "cell_type": "code",
   "execution_count": 1,
   "metadata": {},
   "outputs": [],
   "source": [
    "import pandas as pd\n",
    "import numpy as np"
   ]
  },
  {
   "cell_type": "code",
   "execution_count": 2,
   "metadata": {},
   "outputs": [
    {
     "name": "stdout",
     "output_type": "stream",
     "text": [
      "Data size: (30, 2)\n"
     ]
    }
   ],
   "source": [
    "#import the data\n",
    "data=pd.read_csv('Salary_Data.csv')\n",
    "print('Data size:',data.shape)\n",
    "\n",
    "x=data['YearsExperience'].values\n",
    "y=data['Salary'].values"
   ]
  },
  {
   "cell_type": "code",
   "execution_count": 4,
   "metadata": {},
   "outputs": [],
   "source": [
    "class LinReg():\n",
    "    def __init__(self,x_train, y_train, x_test, y_test) -> None:\n",
    "        self.x_train = x_train\n",
    "        self.y_train = y_train\n",
    "        self.x_test = x_test\n",
    "        self.y_test = y_test\n",
    "\n",
    "        self.m = len(x_train.columns)\n",
    "\n",
    "        self.n = len(x_train)\n",
    "        pass\n",
    "    \n",
    "    #generate coefficients\n",
    "    def generateCoeff(self):\n",
    "        m = self.m + 1\n",
    "        coeffs =  np.zeros(shape =[m,1])\n",
    "        return coeffs\n",
    "    \n",
    "    def h_i_value(self,features_row, coeffs):\n",
    "        #features_row, coeffs are numpy arrays\n",
    "        features_with_bias = features_row.insert(0,1)\n",
    "        h_i = np.multiply(features_with_bias,coeffs)\n",
    "        return h_i\n",
    "    \n",
    "    features = x_train\n",
    "    \n",
    "    def residuals():\n",
    "        error_column = h_i_value - y_train\n",
    "        error = error_column.sum()\n",
    "    \n",
    "    #define gradient descent algorithm\n",
    "    def updateCoeffs(iters = 1000, lr = 0.01):\n",
    "\n",
    "        for iteration in range(iters):\n",
    "\n",
    "            h_i = h_i_value(features,coeffs)\n",
    "            \n",
    "            res_ = residuals(hi-yi)\n",
    "\n",
    "            temp_coeffs = []\n",
    "            for j in range(m+1):\n",
    "                temp_j = coeffs[j] - lr*sum_of_res_*features[j]\n",
    "                temp_coeffs.append(temp_j)\n",
    "            \n",
    "            coeffs = temp_coeffs\n",
    "\n",
    "\n"
   ]
  },
  {
   "cell_type": "code",
   "execution_count": 8,
   "metadata": {},
   "outputs": [
    {
     "data": {
      "text/plain": [
       "array([[0.],\n",
       "       [0.],\n",
       "       [0.],\n",
       "       [0.],\n",
       "       [0.]])"
      ]
     },
     "execution_count": 8,
     "metadata": {},
     "output_type": "execute_result"
    }
   ],
   "source": [
    "np.zeros(shape=[5,1])"
   ]
  },
  {
   "cell_type": "code",
   "execution_count": null,
   "metadata": {},
   "outputs": [],
   "source": []
  },
  {
   "cell_type": "code",
   "execution_count": null,
   "metadata": {},
   "outputs": [],
   "source": []
  },
  {
   "cell_type": "code",
   "execution_count": null,
   "metadata": {},
   "outputs": [],
   "source": []
  }
 ],
 "metadata": {
  "kernelspec": {
   "display_name": "base",
   "language": "python",
   "name": "python3"
  },
  "language_info": {
   "codemirror_mode": {
    "name": "ipython",
    "version": 3
   },
   "file_extension": ".py",
   "mimetype": "text/x-python",
   "name": "python",
   "nbconvert_exporter": "python",
   "pygments_lexer": "ipython3",
   "version": "3.7.6"
  },
  "orig_nbformat": 4,
  "vscode": {
   "interpreter": {
    "hash": "1448b48b023bcc9c3d4a79e814720a10ca6d4244f75e0f7ce4af58f96ba2b7d3"
   }
  }
 },
 "nbformat": 4,
 "nbformat_minor": 2
}
