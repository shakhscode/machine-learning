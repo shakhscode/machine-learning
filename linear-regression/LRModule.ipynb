{
 "cells": [
  {
   "attachments": {},
   "cell_type": "markdown",
   "metadata": {},
   "source": [
    "### Define a class for OLS Linear Regression method"
   ]
  },
  {
   "cell_type": "code",
   "execution_count": 48,
   "metadata": {},
   "outputs": [],
   "source": [
    "import numpy as np"
   ]
  },
  {
   "cell_type": "code",
   "execution_count": 257,
   "metadata": {},
   "outputs": [],
   "source": [
    "class LinReg():\n",
    "\n",
    "    def __init__(self) -> None:\n",
    "        pass\n",
    "\n",
    "    \n",
    "    def add_bias(self,features_mat):\n",
    "        l = features_mat.shape[0]\n",
    "        bias = np.ones([l,1])\n",
    "        features_mat_with_bias = np.hstack((bias,features_mat))\n",
    "        #print('Shape after added bias:',features_mat_with_bias.shape)\n",
    "        return features_mat_with_bias\n",
    "\n",
    "    \n",
    "    # return the resiaduals as a column\n",
    "    def residuals(self,features,coefficients,output):\n",
    "\n",
    "        #features = self.add_bias(features)\n",
    "        \n",
    "         \n",
    "        #print('Features shape:',features.shape)\n",
    "\n",
    "        #print('Coefficients shape:',coefficients.shape)\n",
    "        \n",
    "        h_i_mat = np.round(np.multiply(features,coefficients),4)\n",
    "\n",
    "        #print('h_i_mat_shape', h_i_mat.shape)\n",
    "\n",
    "\n",
    "        h_i = np.reshape(np.sum(h_i_mat,axis=1),[features.shape[0],])\n",
    "\n",
    "        #print('Output Shape', output.shape)\n",
    "        #print('H_i shape', h_i.shape)\n",
    "        \n",
    "        \n",
    "        error_column = np.round(np.subtract(output,h_i),4)\n",
    "        #print(error_column.shape)\n",
    "\n",
    "        return error_column\n",
    "\n",
    "        \n",
    "    def sum_error_x_j(self,features,coefficients,output,j):\n",
    "\n",
    "        features = self.add_bias(features_mat=features)\n",
    "\n",
    "        errors = self.residuals(features,coefficients,output)\n",
    "\n",
    "        error_square = np.round(pow(errors,2),4)\n",
    "        \n",
    "        error_x_j = np.round(np.multiply(error_square,features[:,j]),4)\n",
    "        return np.round(np.sum(error_x_j))\n",
    "    \n",
    "    \n",
    "    #define gradient descent algorithm\n",
    "    def updateCoeffs(self,features, output,lr,iters):\n",
    "        \n",
    "        m = features.shape[1]\n",
    "        n =  features.shape[0]\n",
    "        \n",
    "        #coeffs = np.zeros((1,m+1),dtype=np.float128)\n",
    "        coeffs = np.random.random(size=(1, m+1))\n",
    "        #print(coeffs)\n",
    "        #print(type(coeffs))\n",
    "\n",
    "        for iteration in range(iters):\n",
    "\n",
    "            temp_coeffs = []\n",
    "\n",
    "            for j in range(m+1):\n",
    "                #print('j = ',j)\n",
    "\n",
    "                coeffs_j = coeffs[0][j]\n",
    "                #print('jth_coeff:', coeffs_j)\n",
    "\n",
    "                temp_j = coeffs_j - np.round((lr/n)*self.sum_error_x_j(\n",
    "                                    features,coeffs,output,j=j),4)\n",
    "\n",
    "                temp_coeffs.append(temp_j)\n",
    "            \n",
    "            coeffs = np.reshape(np.array(temp_coeffs),[1,m+1])\n",
    "            \n",
    "            #print('Type of updated coeffs', type(coeffs))\n",
    "            #print('updated coeffs', coeffs)\n",
    "\n",
    "        return coeffs    \n",
    "\n",
    "\n",
    "    # define a function to train the model\n",
    "\n",
    "    def train_the_model(self,X_train, y_train, learning_rate = 0.01, iterations = 100, show = False):\n",
    "\n",
    "        #first convert them into numpy ndarrays\n",
    "\n",
    "        X_train = X_train.to_numpy(dtype=np.float128)\n",
    "        y_train = y_train.to_numpy(dtype=np.float128)\n",
    "\n",
    "        optimal_coeffs = self.updateCoeffs(X_train,y_train,learning_rate,iterations)\n",
    "\n",
    "        # create an instance variable to pass it to the test function\n",
    "        self.optimal_coeffs = optimal_coeffs\n",
    "\n",
    "        if show:\n",
    "            print(f'Intercept: \\n{optimal_coeffs[0][0]}')\n",
    "            print(f'Coefficients: \\n{optimal_coeffs[0][1:]}')\n",
    "    \n",
    "    # Define a function to test the model\n",
    "    def test_the_model(self,X_test):\n",
    "        X_test = X_test.to_numpy(dtype=np.float128)\n",
    "\n",
    "        #predict using the obtained coefficients\n",
    "        X_test = self.add_bias(X_test)\n",
    "\n",
    "        prediction_mat = np.multiply(X_test,self.optimal_coeffs)\n",
    "        predictions = np.sum(prediction_mat,axis = 1)\n",
    "        return predictions\n"
   ]
  },
  {
   "attachments": {},
   "cell_type": "markdown",
   "metadata": {},
   "source": [
    "### Now use the class to apply linear regression"
   ]
  },
  {
   "cell_type": "code",
   "execution_count": 216,
   "metadata": {},
   "outputs": [
    {
     "data": {
      "text/html": [
       "<div>\n",
       "<style scoped>\n",
       "    .dataframe tbody tr th:only-of-type {\n",
       "        vertical-align: middle;\n",
       "    }\n",
       "\n",
       "    .dataframe tbody tr th {\n",
       "        vertical-align: top;\n",
       "    }\n",
       "\n",
       "    .dataframe thead th {\n",
       "        text-align: right;\n",
       "    }\n",
       "</style>\n",
       "<table border=\"1\" class=\"dataframe\">\n",
       "  <thead>\n",
       "    <tr style=\"text-align: right;\">\n",
       "      <th></th>\n",
       "      <th>YearsExperience</th>\n",
       "      <th>Salary</th>\n",
       "    </tr>\n",
       "  </thead>\n",
       "  <tbody>\n",
       "    <tr>\n",
       "      <th>0</th>\n",
       "      <td>1.1</td>\n",
       "      <td>39.343</td>\n",
       "    </tr>\n",
       "    <tr>\n",
       "      <th>1</th>\n",
       "      <td>1.3</td>\n",
       "      <td>46.205</td>\n",
       "    </tr>\n",
       "    <tr>\n",
       "      <th>2</th>\n",
       "      <td>1.5</td>\n",
       "      <td>37.731</td>\n",
       "    </tr>\n",
       "    <tr>\n",
       "      <th>3</th>\n",
       "      <td>2.0</td>\n",
       "      <td>43.525</td>\n",
       "    </tr>\n",
       "    <tr>\n",
       "      <th>4</th>\n",
       "      <td>2.2</td>\n",
       "      <td>39.891</td>\n",
       "    </tr>\n",
       "  </tbody>\n",
       "</table>\n",
       "</div>"
      ],
      "text/plain": [
       "   YearsExperience  Salary\n",
       "0              1.1  39.343\n",
       "1              1.3  46.205\n",
       "2              1.5  37.731\n",
       "3              2.0  43.525\n",
       "4              2.2  39.891"
      ]
     },
     "execution_count": 216,
     "metadata": {},
     "output_type": "execute_result"
    }
   ],
   "source": [
    "#import the library \n",
    "import pandas as pd\n",
    "\n",
    "#import the dataset\n",
    "df = pd.read_csv('Salary_Data.csv')\n",
    "df.head()"
   ]
  },
  {
   "cell_type": "code",
   "execution_count": 223,
   "metadata": {},
   "outputs": [],
   "source": [
    "#Extract features and output\n",
    "X = df.iloc[:,1:len(df.columns)]\n",
    "\n",
    "y = df.iloc[:,-1]\n",
    "\n",
    "#Scale the X data\n",
    "from sklearn.preprocessing import minmax_scale\n",
    "\n",
    "# Apply min-max scaling to the data\n",
    "#y = pd.DataFrame(minmax_scale(y))"
   ]
  },
  {
   "cell_type": "code",
   "execution_count": 224,
   "metadata": {},
   "outputs": [
    {
     "name": "stdout",
     "output_type": "stream",
     "text": [
      "(20, 1) (20,) (10, 1) (10,)\n"
     ]
    }
   ],
   "source": [
    "# Split into train test\n",
    "from sklearn.model_selection import train_test_split\n",
    "\n",
    "X_train,  X_test,y_train, y_test = train_test_split(X,y,test_size=0.33,random_state=42)\n",
    "print(X_train.shape,y_train.shape,X_test.shape, y_test.shape)"
   ]
  },
  {
   "attachments": {},
   "cell_type": "markdown",
   "metadata": {},
   "source": [
    "### Now apply Linear Regression"
   ]
  },
  {
   "cell_type": "code",
   "execution_count": 264,
   "metadata": {},
   "outputs": [
    {
     "name": "stdout",
     "output_type": "stream",
     "text": [
      "Intercept: \n",
      "-inf\n",
      "Coefficients: \n",
      "[-3.97196247e+3775]\n"
     ]
    }
   ],
   "source": [
    "# call the class to define a model\n",
    "linearRegression = LinReg()\n",
    "\n",
    "#train the model\n",
    "linearRegression.train_the_model(X_train,y_train,\n",
    "                                learning_rate=0.01,\n",
    "                                iterations=10,\n",
    "                                show=True)\n"
   ]
  },
  {
   "cell_type": "code",
   "execution_count": 265,
   "metadata": {},
   "outputs": [],
   "source": [
    "predicted = linearRegression.test_the_model(X_test=X_test)"
   ]
  },
  {
   "cell_type": "code",
   "execution_count": 268,
   "metadata": {},
   "outputs": [
    {
     "data": {
      "image/png": "[encoded data removed]",
      "text/plain": [
       "<Figure size 432x288 with 1 Axes>"
      ]
     },
     "metadata": {
      "needs_background": "light"
     },
     "output_type": "display_data"
    }
   ],
   "source": [
    "import matplotlib.pyplot as plt\n",
    "\n",
    "plt.scatter(X,y)\n",
    "plt.plot(predicted,y_test)\n",
    "plt.show()"
   ]
  }
 ],
 "metadata": {
  "kernelspec": {
   "display_name": "base",
   "language": "python",
   "name": "python3"
  },
  "language_info": {
   "codemirror_mode": {
    "name": "ipython",
    "version": 3
   },
   "file_extension": ".py",
   "mimetype": "text/x-python",
   "name": "python",
   "nbconvert_exporter": "python",
   "pygments_lexer": "ipython3",
   "version": "3.7.6"
  },
  "orig_nbformat": 4,
  "vscode": {
   "interpreter": {
    "hash": "1448b48b023bcc9c3d4a79e814720a10ca6d4244f75e0f7ce4af58f96ba2b7d3"
   }
  }
 },
 "nbformat": 4,
 "nbformat_minor": 2
}
