{
 "cells": [
  {
   "attachments": {},
   "cell_type": "markdown",
   "id": "990a4fd2",
   "metadata": {},
   "source": [
    "### Simple Linear Regression: Manual Statistical Process"
   ]
  },
  {
   "cell_type": "code",
   "execution_count": 1,
   "id": "a58caf82",
   "metadata": {},
   "outputs": [],
   "source": [
    "#import the required libraries\n",
    "import numpy as np\n",
    "import pandas as pd\n",
    "import matplotlib.pyplot as plt\n",
    "plt.rcParams['figure.figsize']=(12,8)"
   ]
  },
  {
   "cell_type": "code",
   "execution_count": 2,
   "id": "3ef9fdf8",
   "metadata": {},
   "outputs": [
    {
     "name": "stdout",
     "output_type": "stream",
     "text": [
      "Data size: (30, 2)\n"
     ]
    },
    {
     "data": {
      "text/html": [
       "<div>\n",
       "<style scoped>\n",
       "    .dataframe tbody tr th:only-of-type {\n",
       "        vertical-align: middle;\n",
       "    }\n",
       "\n",
       "    .dataframe tbody tr th {\n",
       "        vertical-align: top;\n",
       "    }\n",
       "\n",
       "    .dataframe thead th {\n",
       "        text-align: right;\n",
       "    }\n",
       "</style>\n",
       "<table border=\"1\" class=\"dataframe\">\n",
       "  <thead>\n",
       "    <tr style=\"text-align: right;\">\n",
       "      <th></th>\n",
       "      <th>YearsExperience</th>\n",
       "      <th>Salary</th>\n",
       "    </tr>\n",
       "  </thead>\n",
       "  <tbody>\n",
       "    <tr>\n",
       "      <th>0</th>\n",
       "      <td>1.1</td>\n",
       "      <td>39343.0</td>\n",
       "    </tr>\n",
       "    <tr>\n",
       "      <th>1</th>\n",
       "      <td>1.3</td>\n",
       "      <td>46205.0</td>\n",
       "    </tr>\n",
       "    <tr>\n",
       "      <th>2</th>\n",
       "      <td>1.5</td>\n",
       "      <td>37731.0</td>\n",
       "    </tr>\n",
       "    <tr>\n",
       "      <th>3</th>\n",
       "      <td>2.0</td>\n",
       "      <td>43525.0</td>\n",
       "    </tr>\n",
       "    <tr>\n",
       "      <th>4</th>\n",
       "      <td>2.2</td>\n",
       "      <td>39891.0</td>\n",
       "    </tr>\n",
       "  </tbody>\n",
       "</table>\n",
       "</div>"
      ],
      "text/plain": [
       "   YearsExperience   Salary\n",
       "0              1.1  39343.0\n",
       "1              1.3  46205.0\n",
       "2              1.5  37731.0\n",
       "3              2.0  43525.0\n",
       "4              2.2  39891.0"
      ]
     },
     "execution_count": 2,
     "metadata": {},
     "output_type": "execute_result"
    }
   ],
   "source": [
    "#import the data\n",
    "data=pd.read_csv('Salary_Data.csv')\n",
    "print('Data size:',data.shape)\n",
    "data.head()"
   ]
  },
  {
   "cell_type": "code",
   "execution_count": 3,
   "id": "34694bfc",
   "metadata": {},
   "outputs": [],
   "source": [
    "#Now we need to define x and Y\n",
    "#extract the values from the the csv file\n",
    "x=data['YearsExperience'].values\n",
    "y=data['Salary'].values\n",
    "\n",
    "\n",
    "#calculate mean of x and y\n",
    "xbar=np.mean(x)\n",
    "ybar=np.mean(y)\n",
    "n=len(x)"
   ]
  },
  {
   "cell_type": "code",
   "execution_count": 4,
   "id": "03dcd1ce",
   "metadata": {},
   "outputs": [
    {
     "data": {
      "text/html": [
       "<div>\n",
       "<style scoped>\n",
       "    .dataframe tbody tr th:only-of-type {\n",
       "        vertical-align: middle;\n",
       "    }\n",
       "\n",
       "    .dataframe tbody tr th {\n",
       "        vertical-align: top;\n",
       "    }\n",
       "\n",
       "    .dataframe thead th {\n",
       "        text-align: right;\n",
       "    }\n",
       "</style>\n",
       "<table border=\"1\" class=\"dataframe\">\n",
       "  <thead>\n",
       "    <tr style=\"text-align: right;\">\n",
       "      <th></th>\n",
       "      <th>YearsExperience</th>\n",
       "      <th>Salary</th>\n",
       "      <th>(x-xbar)</th>\n",
       "      <th>(y-ybar)</th>\n",
       "      <th>(x-xbar)^2</th>\n",
       "    </tr>\n",
       "  </thead>\n",
       "  <tbody>\n",
       "    <tr>\n",
       "      <th>0</th>\n",
       "      <td>1.1</td>\n",
       "      <td>39343.0</td>\n",
       "      <td>-4.213333</td>\n",
       "      <td>-36660.0</td>\n",
       "      <td>17.752178</td>\n",
       "    </tr>\n",
       "    <tr>\n",
       "      <th>1</th>\n",
       "      <td>1.3</td>\n",
       "      <td>46205.0</td>\n",
       "      <td>-4.013333</td>\n",
       "      <td>-29798.0</td>\n",
       "      <td>16.106844</td>\n",
       "    </tr>\n",
       "    <tr>\n",
       "      <th>2</th>\n",
       "      <td>1.5</td>\n",
       "      <td>37731.0</td>\n",
       "      <td>-3.813333</td>\n",
       "      <td>-38272.0</td>\n",
       "      <td>14.541511</td>\n",
       "    </tr>\n",
       "    <tr>\n",
       "      <th>3</th>\n",
       "      <td>2.0</td>\n",
       "      <td>43525.0</td>\n",
       "      <td>-3.313333</td>\n",
       "      <td>-32478.0</td>\n",
       "      <td>10.978178</td>\n",
       "    </tr>\n",
       "    <tr>\n",
       "      <th>4</th>\n",
       "      <td>2.2</td>\n",
       "      <td>39891.0</td>\n",
       "      <td>-3.113333</td>\n",
       "      <td>-36112.0</td>\n",
       "      <td>9.692844</td>\n",
       "    </tr>\n",
       "  </tbody>\n",
       "</table>\n",
       "</div>"
      ],
      "text/plain": [
       "   YearsExperience   Salary  (x-xbar)  (y-ybar)  (x-xbar)^2\n",
       "0              1.1  39343.0 -4.213333  -36660.0   17.752178\n",
       "1              1.3  46205.0 -4.013333  -29798.0   16.106844\n",
       "2              1.5  37731.0 -3.813333  -38272.0   14.541511\n",
       "3              2.0  43525.0 -3.313333  -32478.0   10.978178\n",
       "4              2.2  39891.0 -3.113333  -36112.0    9.692844"
      ]
     },
     "execution_count": 4,
     "metadata": {},
     "output_type": "execute_result"
    }
   ],
   "source": [
    "# Do the calculations\n",
    "data['(x-xbar)'] = x - xbar\n",
    "data['(y-ybar)'] = y - ybar\n",
    "data['(x-xbar)^2'] = pow(data['(x-xbar)'],2)\n",
    "data.head()"
   ]
  },
  {
   "cell_type": "code",
   "execution_count": 5,
   "id": "ee9c07df",
   "metadata": {},
   "outputs": [
    {
     "name": "stdout",
     "output_type": "stream",
     "text": [
      "Intercept: 25792.20019866869 \n",
      "coefficient: 9449.962321455077\n"
     ]
    }
   ],
   "source": [
    "#calculate the coefficients\n",
    "sum1 = data['(x-xbar)']*data['(y-ybar)'].values\n",
    "sum1 = sum1.sum()\n",
    "sum2  = data['(x-xbar)^2'].values\n",
    "sum2 = sum2.sum()\n",
    "\n",
    "b = sum1/sum2\n",
    "a = ybar - (b*xbar)\n",
    "\n",
    "print(f'Intercept: {a} \\ncoefficient: {b}')\n"
   ]
  },
  {
   "attachments": {},
   "cell_type": "markdown",
   "id": "7fb111a6",
   "metadata": {},
   "source": [
    "### Or another way to calculate coefficient using loop"
   ]
  },
  {
   "cell_type": "code",
   "execution_count": 6,
   "id": "c7a6941f",
   "metadata": {},
   "outputs": [
    {
     "name": "stdout",
     "output_type": "stream",
     "text": [
      "9449.962321455077\n",
      "25792.20019866869\n"
     ]
    }
   ],
   "source": [
    "#calculate alpha1 and alpha0\n",
    "sum1=0\n",
    "sum2=0\n",
    "for i in range(n):\n",
    "    sum1=sum1+((x[i]-xbar)*(y[i]-ybar))\n",
    "    \n",
    "    sum2 = sum2+(x[i]-xbar)**2\n",
    "\n",
    "alpha1=sum1/sum2\n",
    "\n",
    "alpha0=ybar-(alpha1*xbar)\n",
    "\n",
    "print(alpha1)\n",
    "print(alpha0)"
   ]
  },
  {
   "cell_type": "code",
   "execution_count": 7,
   "id": "0e28fc75",
   "metadata": {},
   "outputs": [
    {
     "data": {
      "image/png": "[encoded data removed]",
      "text/plain": [
       "<Figure size 432x288 with 1 Axes>"
      ]
     },
     "metadata": {
      "needs_background": "light"
     },
     "output_type": "display_data"
    }
   ],
   "source": [
    "#plot the actual dataset\n",
    "plt.scatter(x,y,label='Real Data')\n",
    "\n",
    "#Calculate the y values according to the obtained value and plot the regression line\n",
    "yp= a+ b*x\n",
    "\n",
    "plt.plot(x,yp,label='Regression line')\n",
    "\n",
    "plt.xlabel('Years of Experience')\n",
    "plt.ylabel('Salary')\n",
    "plt.legend()\n",
    "plt.show()"
   ]
  },
  {
   "cell_type": "code",
   "execution_count": 8,
   "id": "24ab5b88",
   "metadata": {},
   "outputs": [
    {
     "name": "stdout",
     "output_type": "stream",
     "text": [
      "Mean Squre error: 31270951.72228097\n",
      "R_squred value: 0.9569566641435086\n"
     ]
    }
   ],
   "source": [
    "#Claculate the mean square error and R-square measure\n",
    "e_sum=np.sum((y-yp)**2)\n",
    "\n",
    "rsd=np.sum((y-ybar)**2)\n",
    "\n",
    "mse=e_sum/n\n",
    "\n",
    "Rs= 1 - (e_sum/rsd)\n",
    "\n",
    "print(\"Mean Squre error:\",mse)\n",
    "print('R_squred value:',Rs)"
   ]
  },
  {
   "cell_type": "code",
   "execution_count": 9,
   "id": "bbbd0e92",
   "metadata": {},
   "outputs": [
    {
     "name": "stdout",
     "output_type": "stream",
     "text": [
      "Predicted Salary: 158091.67269903977\n"
     ]
    }
   ],
   "source": [
    "#So now our model is ready and we can predict the y value for a future x value\n",
    "\n",
    "#lets predict y for x= 14\n",
    "\n",
    "xnew=14\n",
    "\n",
    "y_predicted = a + b*xnew\n",
    "\n",
    "print('Predicted Salary:',y_predicted)"
   ]
  }
 ],
 "metadata": {
  "kernelspec": {
   "display_name": "base",
   "language": "python",
   "name": "python3"
  },
  "language_info": {
   "codemirror_mode": {
    "name": "ipython",
    "version": 3
   },
   "file_extension": ".py",
   "mimetype": "text/x-python",
   "name": "python",
   "nbconvert_exporter": "python",
   "pygments_lexer": "ipython3",
   "version": "3.7.6"
  },
  "vscode": {
   "interpreter": {
    "hash": "1448b48b023bcc9c3d4a79e814720a10ca6d4244f75e0f7ce4af58f96ba2b7d3"
   }
  }
 },
 "nbformat": 4,
 "nbformat_minor": 5
}
